{
  "nbformat": 4,
  "nbformat_minor": 0,
  "metadata": {
    "accelerator": "GPU",
    "colab": {
      "name": "ResNet-20 Consensus Notebook",
      "provenance": [],
      "collapsed_sections": [],
      "toc_visible": true
    },
    "kernelspec": {
      "display_name": "Python 3",
      "language": "python",
      "name": "python3"
    },
    "language_info": {
      "codemirror_mode": {
        "name": "ipython",
        "version": 3
      },
      "file_extension": ".py",
      "mimetype": "text/x-python",
      "name": "python",
      "nbconvert_exporter": "python",
      "pygments_lexer": "ipython3",
      "version": "3.8.3"
    }
  },
  "cells": [
    {
      "cell_type": "markdown",
      "metadata": {
        "id": "SxK5ABsgH0_l"
      },
      "source": [
        "[![Open In Colab](https://colab.research.google.com/assets/colab-badge.svg)](https://colab.research.google.com/github/vsalavatov/pytorch_resnet_cifar10/blob/master/ResNet_20_Consensus_Notebook.ipynb)"
      ]
    },
    {
      "cell_type": "code",
      "metadata": {
        "id": "yFFp5gyHfMMc"
      },
      "source": [
        "! apt-get install python3.7 python3.7-dev gcc\n",
        "! curl https://bootstrap.pypa.io/get-pip.py -o get-pip.py\n",
        "! python3.7 get-pip.py"
      ],
      "execution_count": null,
      "outputs": []
    },
    {
      "cell_type": "code",
      "metadata": {
        "id": "jCTd2vMPgbT6"
      },
      "source": [
        "%cd /content\n",
        "! rm -rf pytorch_resnet_cifar10"
      ],
      "execution_count": null,
      "outputs": []
    },
    {
      "cell_type": "code",
      "metadata": {
        "id": "qgn5deKGhMVp"
      },
      "source": [
        "! git clone https://github.com/vsalavatov/pytorch_resnet_cifar10 --recursive\n",
        "%cd pytorch_resnet_cifar10"
      ],
      "execution_count": null,
      "outputs": []
    },
    {
      "cell_type": "code",
      "metadata": {
        "id": "jC2Vo9ItT_Lv"
      },
      "source": [
        "! pip3 install -r requirements.txt"
      ],
      "execution_count": null,
      "outputs": []
    },
    {
      "cell_type": "code",
      "metadata": {
        "id": "DuwYH3MZUkF9"
      },
      "source": [
        "! cd distributed-learning && pip3 install -r requirements.txt"
      ],
      "execution_count": null,
      "outputs": []
    },
    {
      "cell_type": "code",
      "metadata": {
        "id": "VcgJqAKKqGPE"
      },
      "source": [
        "import os\n",
        "os.environ['CHECKPOINT_PATH'] = './data'\n",
        "! echo $CHECKPOINT_PATH"
      ],
      "execution_count": null,
      "outputs": []
    },
    {
      "cell_type": "markdown",
      "metadata": {
        "id": "NtMkNOfyp4O0"
      },
      "source": [
        "# If you want to connect GDrive to store checkpoints, run this"
      ]
    },
    {
      "cell_type": "code",
      "metadata": {
        "id": "wjUsXBtWoqHp"
      },
      "source": [
        "from google.colab import drive\n",
        "drive.mount('/content/gdrive')"
      ],
      "execution_count": null,
      "outputs": []
    },
    {
      "cell_type": "code",
      "metadata": {
        "id": "FKn-UiNPo5Or"
      },
      "source": [
        "# DO NOT FORGET TO MODIFY THE PATH\n",
        "import os\n",
        "os.environ['CHECKPOINT_PATH'] = '/content/gdrive/MyDrive/' + 'resnet20-plain-consensus-batch32-k5-freq=1/'\n",
        "! echo $CHECKPOINT_PATH"
      ],
      "execution_count": null,
      "outputs": []
    },
    {
      "cell_type": "markdown",
      "metadata": {
        "id": "-lBPzgw3qEq7"
      },
      "source": [
        "# Training stage\n"
      ]
    },
    {
      "cell_type": "code",
      "metadata": {
        "id": "p8PsmE2E-Efy"
      },
      "source": [
        "!nvidia-smi"
      ],
      "execution_count": null,
      "outputs": []
    },
    {
      "cell_type": "code",
      "metadata": {
        "id": "MF4Saa01UK1F"
      },
      "source": [
        "%cd /content/pytorch_resnet_cifar10/"
      ],
      "execution_count": null,
      "outputs": []
    },
    {
      "cell_type": "code",
      "metadata": {
        "id": "ipow8BmiN3Mo"
      },
      "source": [
        "! python3.7 prepare_agent_datasets.py -n 5"
      ],
      "execution_count": null,
      "outputs": []
    },
    {
      "cell_type": "code",
      "metadata": {
        "id": "YvXHKpNwCRCa"
      },
      "source": [
        "!pkill -9 -f python3\\.7.*\n",
        "%cd /content/pytorch_resnet_cifar10/"
      ],
      "execution_count": null,
      "outputs": []
    },
    {
      "cell_type": "code",
      "metadata": {
        "id": "oqdAF6Hgf2oX"
      },
      "source": [
        "# check out \"run_consensus.py --help\" to see customizable options\n",
        "\n",
        "! python3.7 run_consensus.py -n 5 --topology mesh --validation-agents 0,3 "
      ],
      "execution_count": null,
      "outputs": []
    },
    {
      "cell_type": "code",
      "metadata": {
        "id": "BhRqL97xwmtD"
      },
      "source": [
        "! ps -aux"
      ],
      "execution_count": null,
      "outputs": []
    }
  ]
}